{
 "cells": [
  {
   "cell_type": "code",
   "execution_count": null,
   "metadata": {},
   "outputs": [],
   "source": [
    "import psycopg2\n",
    "import yaml"
   ]
  },
  {
   "cell_type": "code",
   "execution_count": null,
   "metadata": {},
   "outputs": [],
   "source": [
    "# Read the db_conn YAML file\n",
    "with open('db_conn.yaml', 'r') as file:\n",
    "    yaml_data = yaml.safe_load(file)"
   ]
  },
  {
   "cell_type": "code",
   "execution_count": null,
   "metadata": {},
   "outputs": [],
   "source": [
    "# Connect to the PostgreSQL database\n",
    "try:\n",
    "    connection = psycopg2.connect(\n",
    "        host=yaml_data['host'],\n",
    "        port=yaml_data['port'],\n",
    "        database=yaml_data['database'],\n",
    "        user=yaml_data['user'],\n",
    "        password=yaml_data['password']\n",
    "    )\n",
    "\n",
    "    # Create a cursor object\n",
    "    cursor = connection.cursor()\n",
    "\n",
    "    # Define the query to select the first 10 rows\n",
    "    query = \"SELECT * FROM photos.image LIMIT 10;\"\n",
    "\n",
    "    # Execute the query\n",
    "    cursor.execute(query)\n",
    "\n",
    "    # Fetch the results\n",
    "    rows = cursor.fetchall()\n",
    "\n",
    "    # Print the results\n",
    "    for row in rows:\n",
    "        nasa_filename = row[0]\n",
    "        date_time_captured = row[3]\n",
    "        print(nasa_filename, date_time_captured)\n",
    "\n",
    "except Exception as e:\n",
    "    print(f\"An error occurred: {e}\")\n",
    "\n",
    "finally:\n",
    "    # Close the cursor and connection\n",
    "    if cursor:\n",
    "        cursor.close()\n",
    "    if connection:\n",
    "        connection.close()"
   ]
  },
  {
   "cell_type": "code",
   "execution_count": null,
   "metadata": {},
   "outputs": [],
   "source": [
    "# 1. Write a query to get all the rows from the photos.image table.\n",
    "# if the results from all of the rows is too big to fit in memory, \n",
    "# you start with a subset of the rows.\n",
    "\n",
    "# 2. Examine the date_time_captured column to look or time lapses movies.\n",
    "# The length of time between images captureed is not spcified but should be \n",
    "# constant for a specific time lapse movie, however different time lapse movies \n",
    "# may have different time intervals between images. You can look at other columns\n",
    "# to help identify the time lapse movies, if you think it could help.\n",
    "\n",
    "# 3. Create a list of lists where each sub list contains the nasa_filename of the \n",
    "# images for a specific time lapse movie. \n",
    "\n",
    "# 4. Loop though the list of lists and download the images from the OSN to your \n",
    "# local computer in a new directory based on the nasa_filenames, \n",
    "# ISSMISSION-E-FIRSTFRAME-LASTFRAME, like: /ISS010-E-1000-2000/\n"
   ]
  }
 ],
 "metadata": {
  "kernelspec": {
   "display_name": "jupyter",
   "language": "python",
   "name": "python3"
  },
  "language_info": {
   "codemirror_mode": {
    "name": "ipython",
    "version": 3
   },
   "file_extension": ".py",
   "mimetype": "text/x-python",
   "name": "python",
   "nbconvert_exporter": "python",
   "pygments_lexer": "ipython3",
   "version": "3.11.5"
  }
 },
 "nbformat": 4,
 "nbformat_minor": 2
}
